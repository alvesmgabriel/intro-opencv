{
  "nbformat": 4,
  "nbformat_minor": 0,
  "metadata": {
    "colab": {
      "name": "topico-02-transformacoes.ipynb",
      "provenance": [],
      "collapsed_sections": [],
      "mount_file_id": "1BE6dE2VyqjuPJ-FDzfPECA7JZt2dVK1D",
      "authorship_tag": "ABX9TyPsOElVPApUe3Y6AjRRV4a2",
      "include_colab_link": true
    },
    "kernelspec": {
      "name": "python3",
      "display_name": "Python 3"
    },
    "language_info": {
      "name": "python"
    }
  },
  "cells": [
    {
      "cell_type": "markdown",
      "metadata": {
        "id": "view-in-github",
        "colab_type": "text"
      },
      "source": [
        "<a href=\"https://colab.research.google.com/github/alvesmgabriel/intro-opencv/blob/main/topico-02-transformacoes-geometricas/topico_02_transformacoes.ipynb\" target=\"_parent\"><img src=\"https://colab.research.google.com/assets/colab-badge.svg\" alt=\"Open In Colab\"/></a>"
      ]
    },
    {
      "cell_type": "markdown",
      "metadata": {
        "id": "g_3SJLAzLq-q"
      },
      "source": [
        "# Transformações geométricas em imagens digitais\n",
        "\n",
        "Neste tópico veremos as **Transformações geométricas**. Inicialmente iremos importar as bibliotecas necessárias para realizar tais operações e utilizaremos, como teste, a imagem da *Lenna* que possui dimensões `512 x 512` pixels.\n",
        "\n",
        "> **Curiosidade**: A imagem da Lenna é amplamente utilizada na área de Processamento de Imagens desde a década de 70. Para saber mais informações sobre a origem desta imagem consulte o [Wikipedia](https://en.wikipedia.org/wiki/Lenna) ou o site [The Lenna Story](http://www.lenna.org/).\n"
      ]
    },
    {
      "cell_type": "code",
      "metadata": {
        "id": "t2CCWLJtNPck"
      },
      "source": [
        "import cv2\n",
        "from google.colab.patches import cv2_imshow\n",
        "\n",
        "# local em que a imagem está armazenada\n",
        "caminho_imagem = '/content/drive/MyDrive/Colab Notebooks/topico-02-transformacoes/dados/lenna.png'\n",
        "\n",
        "# carrega a imagem\n",
        "lenna = cv2.imread( caminho_imagem )"
      ],
      "execution_count": null,
      "outputs": []
    },
    {
      "cell_type": "markdown",
      "metadata": {
        "id": "TvHvafUjN1so"
      },
      "source": [
        "Pronto. Depois de carregar a imagem, caso queira verificar, pode exibi-la para se certificar que tudo correu bem. Importante mencionar que a variável `caminho_imagem` possibilita que o local da imagem seja alterado se necessário."
      ]
    },
    {
      "cell_type": "code",
      "metadata": {
        "id": "-s5D8g1iOELB"
      },
      "source": [
        "cv2_imshow( lenna )\n",
        "print('\\nA imagem possui {0} pixels'.format(lenna.shape[:2]))"
      ],
      "execution_count": null,
      "outputs": []
    },
    {
      "cell_type": "markdown",
      "metadata": {
        "id": "Fy0kpgegOkHi"
      },
      "source": [
        "## Transformações geométricas\n",
        "\n",
        "Para efeitos de estudo das tranformações geométricas, selecionaremos um trecho da imagem com dimensão `192 x 192` pixels iniciando na posição `(linha=200, coluna=190)` de modo que o rosto da Lenna seja selecionado.\n",
        "\n",
        "> **Você sabia?** Ao selecionar um trecho da imagem, ou seja, \"*cortá-la*\" estamos realizando a transformação geométrica conhecida como **cropping**."
      ]
    },
    {
      "cell_type": "code",
      "metadata": {
        "id": "jgGGeIY0P1P1"
      },
      "source": [
        "rosto_lenna = lenna[200:392, 190:382, :]\n",
        "cv2_imshow( rosto_lenna )"
      ],
      "execution_count": null,
      "outputs": []
    },
    {
      "cell_type": "markdown",
      "metadata": {
        "id": "J2A2fSGMQjPa"
      },
      "source": [
        "O motivo da seleção é trabalhar com uma matriz menor de pixels. Estudaremos as principais transformações geométricas: *scaling*, *translating*, *rotating*, *cropping*, *flip*, *perspective* e *affine*.\n",
        "\n",
        "> **Importante**: Ao utilizarmos o recurso de [*slicing Numpy*](https://www.w3schools.com/python/numpy/numpy_array_slicing.asp) realizamos a transformação geométrica conhecida como *cropping*.\n"
      ]
    },
    {
      "cell_type": "markdown",
      "metadata": {
        "id": "cRPvqrG_S-q4"
      },
      "source": [
        "### Scaling\n",
        "\n",
        "O processo de *scaling* corresponde a ampliar, ou reduzir, as dimensões da imagem e, portanto, modificá-la. Essa modificação pode-se dá por meio de um *fator*, daí geralmente chama-se <u>scaling</u>; ou se especifica o novo tamanho da imagem, neste caso às vezes o processo é chamado de <u>sizing</u> ou <u>resizing</u>.\n",
        "\n",
        "> **Nota**: na prática utilizar fator de alteração ou definir o novo tamanho corresponderá a transformação geométrica conhecida como *scaling*.\n",
        "\n",
        "Na biblioteca OpenCV a função `resize()` realiza esta transformação geométrica. A seguir será ilustrado o processo utilizando o fator de alteração bem como a definição de um novo tamanho."
      ]
    },
    {
      "cell_type": "code",
      "metadata": {
        "id": "jwjgbITPU70E"
      },
      "source": [
        "altura, largura = rosto_lenna.shape[:2]\n",
        "print('altura = {0}; largura = {1}'.format(altura, largura))"
      ],
      "execution_count": null,
      "outputs": []
    },
    {
      "cell_type": "markdown",
      "metadata": {
        "id": "9VVH04vYVwOK"
      },
      "source": [
        "Primeiro, obtemos a largura e a altura da matriz que iremos trabalhar e agora vamos definir um novo tamanho para a imagem de saida. Perceba que é necessário realizar a interpolação.\n",
        "\n",
        "No caso da ampliação, a nova matriz conterá *mais* pixels cujos valores precisarão ser determinados em função dos valores dos pixels já existentes. No caso da redução, a nova matriz conterá *menos* pixels e precisará descartar pixels já existentes. Em ambos os casos a interpolação busca preservar a informação original e minimizar erros. O OpenCV fornece cinco métodos de interpolação.\n",
        "\n",
        "> **Nota**: No caso da redução é possível realizar a divisão, por exemplo: `largura // 4`. Perceba, no entanto, o operador `//`, da linguagem Python, que retorna a *divisão inteira*. Isso é necessário, pois as dimensões são expressas em números inteiros e não ponto-flutuantes.\n",
        "\n"
      ]
    },
    {
      "cell_type": "code",
      "metadata": {
        "id": "s8TBtobiWADK"
      },
      "source": [
        "rosto_ampliado4x = cv2.resize(rosto_lenna, (largura * 2, altura * 2), interpolation=cv2.INTER_CUBIC)\n",
        "cv2_imshow( rosto_ampliado4x )"
      ],
      "execution_count": null,
      "outputs": []
    },
    {
      "cell_type": "markdown",
      "metadata": {
        "id": "72xdzEUeYjZz"
      },
      "source": [
        "O próximo exemplo mostra o *scaling* utilizando agora um fator de alteração. Ao utilizar o *fator* é possível passar um valor de ponto-flutuante."
      ]
    },
    {
      "cell_type": "code",
      "metadata": {
        "id": "ugCBwTA5Yo8h"
      },
      "source": [
        "rosto_fator = cv2.resize(rosto_lenna, None, fx=0.5, fy=0.5)\n",
        "cv2_imshow( rosto_fator )"
      ],
      "execution_count": null,
      "outputs": []
    },
    {
      "cell_type": "markdown",
      "metadata": {
        "id": "q54Q1PEVdPiT"
      },
      "source": [
        "### Translação\n",
        "\n",
        "A translação (*translating*) consiste em deslocar a imagem um determinado número de linhas e colunas. Esse processo é realizado pela função `warpAffine()` que utiliza <u>coordenadas homôgeneas</u> e uma matriz de transformação `M = 2 x 3`. Portanto, o resultado na posição `(l, c)` ($R_{l,c}$) da translação de um determinado ponto da imagem pode ser obtida por meio da seguinte equação:\n",
        "\n",
        "$$\n",
        "R_{l, c} = \n",
        "\\begin{bmatrix}\n",
        "1 & 0 & off\\_lin \\\\\n",
        "0 & 1 & off\\_col\n",
        "\\end{bmatrix}\n",
        "\\begin{bmatrix}\n",
        "l \\\\\n",
        "c \\\\\n",
        "1\n",
        "\\end{bmatrix}\n",
        "$$\n",
        "\n",
        "onde `off_col` e `off_lin` indicam, respectivamente, o deslocamento da largura (colunas) e altura (linhas) e `l` e `c` determina a posição original `(linha, coluna)` que será deslocada.\n",
        "\n",
        "A título de exemplo, considere o ponto com coordenadas cartesianas `(0,0)` e o deslocamento de 20 linhas e 10 colunas. Logo, a nova coordenada será:\n",
        "$$\n",
        "R_{0, 0} = \n",
        "\\begin{bmatrix}\n",
        "1 & 0 & 20 \\\\\n",
        "0 & 1 & 10\n",
        "\\end{bmatrix}\n",
        "\\begin{bmatrix}\n",
        "0 \\\\\n",
        "0 \\\\\n",
        "1\n",
        "\\end{bmatrix} = (20, 10)\n",
        "$$\n",
        "\n",
        "\n",
        "\n"
      ]
    },
    {
      "cell_type": "code",
      "metadata": {
        "id": "sbKnFTkidSDC"
      },
      "source": [
        "import numpy as np\n",
        "offset_linhas = 20\n",
        "offset_colunas = 10\n",
        "M = np.float32([[1, 0, offset_colunas], [0, 1, offset_linhas]])\n",
        "dest = cv2.warpAffine(rosto_lenna, M, (largura, altura))\n",
        "cv2_imshow( dest )"
      ],
      "execution_count": null,
      "outputs": []
    },
    {
      "cell_type": "markdown",
      "metadata": {
        "id": "LBnp1zl2Z0jH"
      },
      "source": [
        "No exemplo acima, deslocamos 20 linhas e 10 colunas na imagem original. O fato da coordenada inicial `(0,0)` encontra-se no canto superior esquerdo justifica as faixas escuras na parte superior e na lateral esquerda. Isto porquê não há alteração nas dimensões originais da imagem, pois se trata de um *movimento rígido*."
      ]
    },
    {
      "cell_type": "markdown",
      "metadata": {
        "id": "WAJ1tCnnirFo"
      },
      "source": [
        "### Rotação\n",
        "\n",
        "Essa transformação consiste em rotacionar os pixels de uma imagem em um determinado ângulo, tanto no sentido horário quanto anti-horário. Para isso é utilizada a matriz de transformação `2 x 3` ($M$), conforme indicado abaixo.\n",
        "\n",
        "$$\n",
        "M = \\begin{bmatrix}\n",
        "\\alpha & \\beta & (1 - \\alpha).c_l - \\beta . c_a \\\\\n",
        "-\\beta & \\alpha & \\beta . c_l + (1 - \\alpha) . c_a\n",
        "\\end{bmatrix}\n",
        "$$\n",
        "\n",
        "onde $c_l$ é o centro da imagem no sentido da largura e $c_a$ é o centro da imagem no sentido da altura. O valor de $\\alpha$ é dado por $\\alpha = escala . \\cos\\theta$ e $\\beta$ dado por $\\beta = escala . \\sin\\theta$. Na definição de $\\alpha$ e $\\beta$, temos $\\theta$ que corresponde ao ângulo de rotação e a $escala$ que corresponde a um fator de ampliação ou redução da imagem.\n",
        "\n",
        "A biblioteca OpenCV disponibiliza a função `getRotationMatrix2D()` que nos auxilia na definição da matriz $M$. Para isso são necessários três parâmetos: o centro da imagem; o ângulo de rotação ($\\theta$) e a $escala$. Em seguida, utilizamos novamente a função `warpAffine()` para realizar a rotação.\n",
        "\n",
        "> **Importante**: valores positivos correspondem a rotação no sentido anti-horário."
      ]
    },
    {
      "cell_type": "code",
      "metadata": {
        "id": "PQ95dLDElUSZ"
      },
      "source": [
        "M = cv2.getRotationMatrix2D((largura/2.0, altura/2.0), 0, 1)\n",
        "dst = cv2.warpAffine(rosto_lenna, M, (largura, altura))\n",
        "cv2_imshow(dst)\n",
        "M"
      ],
      "execution_count": null,
      "outputs": []
    },
    {
      "cell_type": "markdown",
      "metadata": {
        "id": "E0fuLaIOsvs-"
      },
      "source": [
        "### Flip\n",
        "\n",
        "Essa operação consiste em \"espelhar\" a imagem. A biblioteca OpenCV disponibiliza a função `flip()` para realizar tal operação. Além da imagem, a função possui outro parâmetro que informa o tipo do \"flip\":\n",
        "- 0, indica que o *flip* será na vertical;\n",
        "- 1, indica que o *flip* será na horizontal;\n",
        "- -1, indica que o *flip* será em ambas as direções."
      ]
    },
    {
      "cell_type": "code",
      "metadata": {
        "id": "LQAbxiuutR5j"
      },
      "source": [
        "im_flip = cv2.flip(rosto_lenna, -1)\n",
        "cv2_imshow( im_flip )"
      ],
      "execution_count": null,
      "outputs": []
    }
  ]
}